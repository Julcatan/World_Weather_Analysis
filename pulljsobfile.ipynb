{
 "cells": [
  {
   "cell_type": "code",
   "execution_count": 1,
   "id": "d74a36c8-e02f-4292-b562-e391e6b729ad",
   "metadata": {},
   "outputs": [],
   "source": [
    "import requests\n",
    "from config import weather_api_key"
   ]
  },
  {
   "cell_type": "code",
   "execution_count": 2,
   "id": "316c5973-27d7-446b-a565-40bf35448bfb",
   "metadata": {},
   "outputs": [],
   "source": [
    "url = \"http://api.openweathermap.org/data/2.5/weather?\"\n",
    "city = \"London\""
   ]
  },
  {
   "cell_type": "code",
   "execution_count": 3,
   "id": "6afd4f02-8be4-467c-a75a-cba9fcf01c20",
   "metadata": {},
   "outputs": [],
   "source": [
    "query_url = url +\"appid=\"+ weather_api_key + \"&q=\" +city"
   ]
  },
  {
   "cell_type": "code",
   "execution_count": 4,
   "id": "b2573ed8-58f3-4a2a-b0bb-0478005c4201",
   "metadata": {},
   "outputs": [],
   "source": [
    "weather_response = requests.get(query_url)\n",
    "#Convert to jsonformat\n",
    "weather_json = weather_response.json()"
   ]
  },
  {
   "cell_type": "code",
   "execution_count": 5,
   "id": "3bdec55f-cf65-4948-8ea7-ccafe76f6e5f",
   "metadata": {},
   "outputs": [
    {
     "data": {
      "text/plain": [
       "dict_keys(['coord', 'weather', 'base', 'main', 'visibility', 'wind', 'clouds', 'dt', 'sys', 'timezone', 'id', 'name', 'cod'])"
      ]
     },
     "execution_count": 5,
     "metadata": {},
     "output_type": "execute_result"
    }
   ],
   "source": [
    "weather_json.keys()"
   ]
  },
  {
   "cell_type": "code",
   "execution_count": 6,
   "id": "65b14d03-e9e5-42d0-8678-b7e2e794c8b1",
   "metadata": {},
   "outputs": [
    {
     "data": {
      "text/plain": [
       "{'temp': 284.52,\n",
       " 'feels_like': 283.96,\n",
       " 'temp_min': 283.62,\n",
       " 'temp_max': 285.21,\n",
       " 'pressure': 1031,\n",
       " 'humidity': 86}"
      ]
     },
     "execution_count": 6,
     "metadata": {},
     "output_type": "execute_result"
    }
   ],
   "source": [
    "#see whats in the key\n",
    "weather_json.get(\"main\")"
   ]
  },
  {
   "cell_type": "code",
   "execution_count": null,
   "id": "f96b4782-2b5f-498a-b08a-2b09d57b1a1d",
   "metadata": {},
   "outputs": [],
   "source": []
  },
  {
   "cell_type": "code",
   "execution_count": null,
   "id": "abc99026-11ed-43ae-a6a5-79bf049e83e2",
   "metadata": {},
   "outputs": [],
   "source": []
  }
 ],
 "metadata": {
  "kernelspec": {
   "display_name": "PythonData",
   "language": "python",
   "name": "pythondata"
  },
  "language_info": {
   "codemirror_mode": {
    "name": "ipython",
    "version": 3
   },
   "file_extension": ".py",
   "mimetype": "text/x-python",
   "name": "python",
   "nbconvert_exporter": "python",
   "pygments_lexer": "ipython3",
   "version": "3.7.10"
  }
 },
 "nbformat": 4,
 "nbformat_minor": 5
}
