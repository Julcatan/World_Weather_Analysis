{
 "cells": [
  {
   "cell_type": "code",
   "execution_count": 1,
   "id": "1034d687-bfae-4413-bb62-b280496632dd",
   "metadata": {},
   "outputs": [],
   "source": [
    "# Import the dependencies.\n",
    "import pandas as pd\n",
    "import matplotlib.pyplot as plt\n",
    "import numpy as np"
   ]
  },
  {
   "cell_type": "code",
   "execution_count": 2,
   "id": "3ccc47b7-ca88-4008-86f8-5d67314eed95",
   "metadata": {},
   "outputs": [],
   "source": [
    "# Create a practice set of random latitude and longitude combinations.\n",
    "x = [25.12903645, 25.92017388, 26.62509167, -59.98969384, 37.30571269]\n",
    "y = [-67.59741259, 11.09532135, 74.84233102, -76.89176677, -61.13376282]\n",
    "coordinates = zip(x, y)\n"
   ]
  },
  {
   "cell_type": "code",
   "execution_count": 3,
   "id": "5a2e6425-049d-468a-ad87-7a0646f9d05d",
   "metadata": {},
   "outputs": [],
   "source": [
    "# Use the citipy module to determine city based on latitude and longitude.\n",
    "from citipy import citipy"
   ]
  },
  {
   "cell_type": "code",
   "execution_count": 4,
   "id": "9c4dee40-b8bc-4471-b598-b6e96af24dd2",
   "metadata": {},
   "outputs": [
    {
     "name": "stdout",
     "output_type": "stream",
     "text": [
      "cockburn town tc\n",
      "gat ly\n",
      "parvatsar in\n",
      "punta arenas cl\n",
      "saint george bm\n"
     ]
    }
   ],
   "source": [
    "# Use the tuple() function to display the latitude and longitude combinations.\n",
    "for coordinate in coordinates:\n",
    "       print(citipy.nearest_city(coordinate[0], coordinate[1]).city_name,\n",
    "          citipy.nearest_city(coordinate[0], coordinate[1]).country_code)"
   ]
  },
  {
   "cell_type": "code",
   "execution_count": 5,
   "id": "eb4509d9-7b6d-4093-9713-0c4f9b046f20",
   "metadata": {},
   "outputs": [],
   "source": [
    "# Import the requests library.\n",
    "import requests\n",
    "\n",
    "# Import the API key.\n",
    "from config import weather_api_key"
   ]
  },
  {
   "cell_type": "markdown",
   "id": "c9948d14-e4a8-4211-a7a8-dad8169763a4",
   "metadata": {},
   "source": [
    "api.openweathermap.org/data/2.5/weather?q={city name}&appid={API key}"
   ]
  },
  {
   "cell_type": "code",
   "execution_count": 6,
   "id": "dd94dac3-9b99-4c74-81db-9fe8b95b7518",
   "metadata": {},
   "outputs": [],
   "source": [
    "# Starting URL for Weather Map API Call.\n",
    "url = \"http://api.openweathermap.org/data/2.5/weather?units=Imperial&APPID=\" + weather_api_key\n",
    "#print(url)"
   ]
  },
  {
   "cell_type": "code",
   "execution_count": 7,
   "id": "072621c0-f657-40e8-8fa8-daae4219d685",
   "metadata": {},
   "outputs": [],
   "source": [
    "# Create an endpoint URL for a city.\n",
    "city_url = url + \"&q=\" + \"Boston\"\n",
    "#print(city_url)"
   ]
  },
  {
   "cell_type": "code",
   "execution_count": 8,
   "id": "f9639c66-2388-4084-bbdd-401256ee3981",
   "metadata": {},
   "outputs": [
    {
     "data": {
      "text/plain": [
       "<Response [200]>"
      ]
     },
     "execution_count": 8,
     "metadata": {},
     "output_type": "execute_result"
    }
   ],
   "source": [
    "# Make a 'Get' request for the city weather.\n",
    "city_weather = requests.get(city_url)\n",
    "city_weather"
   ]
  },
  {
   "cell_type": "markdown",
   "id": "ead851bb-ff9b-434b-8aad-d2f281706acf",
   "metadata": {},
   "source": [
    "Response 200 means valid response"
   ]
  },
  {
   "cell_type": "code",
   "execution_count": 9,
   "id": "e57e87d6-9bb3-441d-9712-a3da55c4c2d5",
   "metadata": {},
   "outputs": [
    {
     "data": {
      "text/plain": [
       "200"
      ]
     },
     "execution_count": 9,
     "metadata": {},
     "output_type": "execute_result"
    }
   ],
   "source": [
    "city_weather.status_code"
   ]
  },
  {
   "cell_type": "code",
   "execution_count": 10,
   "id": "1d8669f2-cbba-44b3-8afd-f6a6d83ad3ff",
   "metadata": {},
   "outputs": [
    {
     "data": {
      "text/plain": [
       "<Response [404]>"
      ]
     },
     "execution_count": 10,
     "metadata": {},
     "output_type": "execute_result"
    }
   ],
   "source": [
    "# Create an endpoint URL for a city.\n",
    "city_url = url + \"&q=\" + \"Bston\"\n",
    "city_weather = requests.get(city_url)\n",
    "city_weather"
   ]
  },
  {
   "cell_type": "markdown",
   "id": "34176422-365d-4e79-bad5-6a6ce787f8bd",
   "metadata": {},
   "source": [
    "misspelled therefore 404"
   ]
  },
  {
   "cell_type": "code",
   "execution_count": 11,
   "id": "8d006a9d-bb7c-4fb6-83d8-6778b80536d4",
   "metadata": {},
   "outputs": [
    {
     "data": {
      "text/plain": [
       "<Response [200]>"
      ]
     },
     "execution_count": 11,
     "metadata": {},
     "output_type": "execute_result"
    }
   ],
   "source": [
    "# Create an endpoint URL for a city.\n",
    "city_url = url + \"&q=\" + \"Boston\"\n",
    "city_weather = requests.get(city_url)\n",
    "city_weather"
   ]
  },
  {
   "cell_type": "markdown",
   "id": "6cca31f1-8e74-4adc-bc87-583784fd699f",
   "metadata": {},
   "source": [
    "When we receive a valid response from the server, we have to decide on the data format. The options are text, JSON, XML, or HTML format. We can apply the format attributes to get the data into a useful format to parse.\n",
    "\n",
    "One format that provides a preview of the JSON data is the text attribute. Let's get the content for the Boston weather data using the following code."
   ]
  },
  {
   "cell_type": "code",
   "execution_count": 12,
   "id": "dc48cd0b-52da-489d-81b0-6ef561be2b70",
   "metadata": {},
   "outputs": [
    {
     "data": {
      "text/plain": [
       "'{\"coord\":{\"lon\":-71.0598,\"lat\":42.3584},\"weather\":[{\"id\":800,\"main\":\"Clear\",\"description\":\"clear sky\",\"icon\":\"01d\"}],\"base\":\"stations\",\"main\":{\"temp\":45.59,\"feels_like\":39.56,\"temp_min\":41.77,\"temp_max\":48.58,\"pressure\":1019,\"humidity\":58},\"visibility\":10000,\"wind\":{\"speed\":13,\"deg\":340,\"gust\":24},\"clouds\":{\"all\":10},\"dt\":1637337541,\"sys\":{\"type\":2,\"id\":2013408,\"country\":\"US\",\"sunrise\":1637322024,\"sunset\":1637356759},\"timezone\":-18000,\"id\":4930956,\"name\":\"Boston\",\"cod\":200}'"
      ]
     },
     "execution_count": 12,
     "metadata": {},
     "output_type": "execute_result"
    }
   ],
   "source": [
    "# Get the text of the 'Get' request.\n",
    "city_weather.text"
   ]
  },
  {
   "cell_type": "code",
   "execution_count": 13,
   "id": "eeeebd21-c695-426b-81f6-8f15d4f63b8d",
   "metadata": {},
   "outputs": [
    {
     "data": {
      "text/plain": [
       "{'coord': {'lon': -71.0598, 'lat': 42.3584},\n",
       " 'weather': [{'id': 800,\n",
       "   'main': 'Clear',\n",
       "   'description': 'clear sky',\n",
       "   'icon': '01d'}],\n",
       " 'base': 'stations',\n",
       " 'main': {'temp': 45.59,\n",
       "  'feels_like': 39.56,\n",
       "  'temp_min': 41.77,\n",
       "  'temp_max': 48.58,\n",
       "  'pressure': 1019,\n",
       "  'humidity': 58},\n",
       " 'visibility': 10000,\n",
       " 'wind': {'speed': 13, 'deg': 340, 'gust': 24},\n",
       " 'clouds': {'all': 10},\n",
       " 'dt': 1637337541,\n",
       " 'sys': {'type': 2,\n",
       "  'id': 2013408,\n",
       "  'country': 'US',\n",
       "  'sunrise': 1637322024,\n",
       "  'sunset': 1637356759},\n",
       " 'timezone': -18000,\n",
       " 'id': 4930956,\n",
       " 'name': 'Boston',\n",
       " 'cod': 200}"
      ]
     },
     "execution_count": 13,
     "metadata": {},
     "output_type": "execute_result"
    }
   ],
   "source": [
    "# Get the JSON text of the 'Get' request.\n",
    "city_weather.json()"
   ]
  },
  {
   "cell_type": "markdown",
   "id": "1d8ee5d9-99c4-4631-9094-76107fc62b70",
   "metadata": {},
   "source": [
    "Handle Request Errors\n",
    "When we submit a get request for the city_weather, we want to make sure that we get a valid response, i.e., 200, before we retrieve any data. To check if we get a valid response, we can write a conditional expression that will evaluate whether the status code is equal to 200. If it is, then we can print out a statement that says the weather data was found. If there is a response other than 200, we can print out a statement that says the weather was not found, as in the following example:"
   ]
  },
  {
   "cell_type": "code",
   "execution_count": 14,
   "id": "3b72c05f-50bf-4bc7-846c-fddaa0a5d1c9",
   "metadata": {},
   "outputs": [
    {
     "name": "stdout",
     "output_type": "stream",
     "text": [
      "City Weather found.\n"
     ]
    }
   ],
   "source": [
    "# Create an endpoint URL for a city.\n",
    "city_url = url + \"&q=\" + \"Boston\"\n",
    "city_weather = requests.get(city_url)\n",
    "if city_weather.status_code == 200:\n",
    "    print(f\"City Weather found.\")\n",
    "else:\n",
    "    print(f\"City weather not found.\")"
   ]
  },
  {
   "cell_type": "code",
   "execution_count": 15,
   "id": "945d405f-19e5-4a75-a992-a8061504b9ab",
   "metadata": {},
   "outputs": [
    {
     "name": "stdout",
     "output_type": "stream",
     "text": [
      "City weather not found.\n"
     ]
    }
   ],
   "source": [
    "# Create an endpoint URL for a city.\n",
    "city_url = url + \"&q=\" + \"Bston\"\n",
    "city_weather = requests.get(city_url)\n",
    "if city_weather.status_code == 200:\n",
    "    print(f\"City Weather found.\")\n",
    "else:\n",
    "    print(f\"City weather not found.\")"
   ]
  },
  {
   "cell_type": "markdown",
   "id": "a5ddcd00-6bc7-4e94-b9ce-39bf1090fa22",
   "metadata": {},
   "source": [
    " if we type print(city_url) in a new cell and run the cell, the output will be a URL. If we click the URL, the web browser returns a 404 response and there is no data to retrieve."
   ]
  },
  {
   "cell_type": "code",
   "execution_count": 16,
   "id": "1e6fdc05-861b-493d-8c8e-bb72dff218d4",
   "metadata": {},
   "outputs": [
    {
     "data": {
      "text/plain": [
       "{'coord': {'lon': -71.0598, 'lat': 42.3584},\n",
       " 'weather': [{'id': 800,\n",
       "   'main': 'Clear',\n",
       "   'description': 'clear sky',\n",
       "   'icon': '01d'}],\n",
       " 'base': 'stations',\n",
       " 'main': {'temp': 45.59,\n",
       "  'feels_like': 39.56,\n",
       "  'temp_min': 41.77,\n",
       "  'temp_max': 48.58,\n",
       "  'pressure': 1019,\n",
       "  'humidity': 58},\n",
       " 'visibility': 10000,\n",
       " 'wind': {'speed': 13, 'deg': 340, 'gust': 24},\n",
       " 'clouds': {'all': 10},\n",
       " 'dt': 1637337541,\n",
       " 'sys': {'type': 2,\n",
       "  'id': 2013408,\n",
       "  'country': 'US',\n",
       "  'sunrise': 1637322024,\n",
       "  'sunset': 1637356759},\n",
       " 'timezone': -18000,\n",
       " 'id': 4930956,\n",
       " 'name': 'Boston',\n",
       " 'cod': 200}"
      ]
     },
     "execution_count": 16,
     "metadata": {},
     "output_type": "execute_result"
    }
   ],
   "source": [
    "# Create an endpoint URL for a city.\n",
    "city_url = url + \"&q=\" + \"Boston\"\n",
    "city_weather = requests.get(city_url)\n",
    "city_weather.json()"
   ]
  },
  {
   "cell_type": "markdown",
   "id": "3567fcf5-839c-42c9-8ba6-a97ec9485425",
   "metadata": {},
   "source": [
    "assign a variable to the city_weather.json() data to the variable \"boston_data\" and run the cell."
   ]
  },
  {
   "cell_type": "code",
   "execution_count": null,
   "id": "1957d6c7-260d-4ab2-b263-cfdafebe68bb",
   "metadata": {},
   "outputs": [],
   "source": [
    "# Get the JSON data.\n",
    "boston_data = city_weather.json()"
   ]
  },
  {
   "cell_type": "code",
   "execution_count": 19,
   "id": "f29a2f52-83bc-4224-84d4-3679751955e3",
   "metadata": {},
   "outputs": [
    {
     "data": {
      "text/plain": [
       "{'type': 2,\n",
       " 'id': 2013408,\n",
       " 'country': 'US',\n",
       " 'sunrise': 1637322024,\n",
       " 'sunset': 1637356759}"
      ]
     },
     "execution_count": 19,
     "metadata": {},
     "output_type": "execute_result"
    }
   ],
   "source": [
    "boston_data['sys']"
   ]
  },
  {
   "cell_type": "code",
   "execution_count": 20,
   "id": "b20dabd5-380d-4a74-9c44-c59af39018f4",
   "metadata": {},
   "outputs": [
    {
     "data": {
      "text/plain": [
       "'US'"
      ]
     },
     "execution_count": 20,
     "metadata": {},
     "output_type": "execute_result"
    }
   ],
   "source": [
    "boston_data['sys']['country']"
   ]
  },
  {
   "cell_type": "code",
   "execution_count": 21,
   "id": "1106380c-cd08-4266-84e5-c4e0c376b199",
   "metadata": {},
   "outputs": [
    {
     "data": {
      "text/plain": [
       "1637337541"
      ]
     },
     "execution_count": 21,
     "metadata": {},
     "output_type": "execute_result"
    }
   ],
   "source": [
    "boston_data['dt']"
   ]
  },
  {
   "cell_type": "code",
   "execution_count": 22,
   "id": "012be31a-ce78-4805-aa02-3f4eeffe76fd",
   "metadata": {},
   "outputs": [
    {
     "data": {
      "text/plain": [
       "42.3584"
      ]
     },
     "execution_count": 22,
     "metadata": {},
     "output_type": "execute_result"
    }
   ],
   "source": [
    "boston_data['coord']['lat']"
   ]
  },
  {
   "cell_type": "code",
   "execution_count": 23,
   "id": "6a3197ee-d4a5-4ee8-b4eb-8333f7fae7aa",
   "metadata": {},
   "outputs": [
    {
     "name": "stdout",
     "output_type": "stream",
     "text": [
      "42.3584 -71.0598 48.58 58 10 13\n"
     ]
    }
   ],
   "source": [
    "lat = boston_data[\"coord\"][\"lat\"]\n",
    "lng = boston_data[\"coord\"][\"lon\"]\n",
    "max_temp = boston_data[\"main\"][\"temp_max\"]\n",
    "humidity = boston_data[\"main\"][\"humidity\"]\n",
    "clouds = boston_data[\"clouds\"][\"all\"]\n",
    "wind = boston_data[\"wind\"][\"speed\"]\n",
    "print(lat, lng, max_temp, humidity, clouds, wind)"
   ]
  },
  {
   "cell_type": "markdown",
   "id": "8bc00265-5c92-4703-b129-fe8420524c44",
   "metadata": {},
   "source": [
    "If we want to convert the timestamp to the International Organization for Standardization (ISO) format, or YYYY-MM-DD-HH-MM-SS, we need to use the Python datetime module."
   ]
  },
  {
   "cell_type": "code",
   "execution_count": 24,
   "id": "8f8b9365-54fb-4866-8ef2-6ac93790822c",
   "metadata": {},
   "outputs": [
    {
     "data": {
      "text/plain": [
       "datetime.datetime(2021, 11, 19, 15, 59, 1)"
      ]
     },
     "execution_count": 24,
     "metadata": {},
     "output_type": "execute_result"
    }
   ],
   "source": [
    "# Import the datetime module from the datetime library.\n",
    "from datetime import datetime\n",
    "# Get the date from the JSON file.\n",
    "date = boston_data[\"dt\"]\n",
    "# Convert the UTC date to a date format with year, month, day, hours, minutes, and seconds.\n",
    "datetime.utcfromtimestamp(date)"
   ]
  },
  {
   "cell_type": "markdown",
   "id": "04c7da57-a5f2-46f5-995b-b95d53df13d9",
   "metadata": {},
   "source": [
    "When we run this code, the output is now in the ISO format with the, year, month, date, hour, minute, and seconds offset by commas."
   ]
  },
  {
   "cell_type": "code",
   "execution_count": null,
   "id": "6c2dbdcc-8e82-4b94-acd8-25d5baba48c6",
   "metadata": {},
   "outputs": [],
   "source": []
  }
 ],
 "metadata": {
  "kernelspec": {
   "display_name": "PythonData",
   "language": "python",
   "name": "pythondata"
  },
  "language_info": {
   "codemirror_mode": {
    "name": "ipython",
    "version": 3
   },
   "file_extension": ".py",
   "mimetype": "text/x-python",
   "name": "python",
   "nbconvert_exporter": "python",
   "pygments_lexer": "ipython3",
   "version": "3.7.10"
  }
 },
 "nbformat": 4,
 "nbformat_minor": 5
}
